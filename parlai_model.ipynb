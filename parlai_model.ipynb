{
 "metadata": {
  "language_info": {
   "codemirror_mode": {
    "name": "ipython",
    "version": 3
   },
   "file_extension": ".py",
   "mimetype": "text/x-python",
   "name": "python",
   "nbconvert_exporter": "python",
   "pygments_lexer": "ipython3",
   "version": 3
  },
  "orig_nbformat": 2
 },
 "nbformat": 4,
 "nbformat_minor": 2,
 "cells": [
  {
   "cell_type": "code",
   "execution_count": null,
   "metadata": {},
   "outputs": [],
   "source": [
    "from parlai.scripts.display_data import DisplayData\n",
    "DisplayData.main(task='empathetic_dialogues', num_examples=5)"
   ]
  },
  {
   "cell_type": "code",
   "execution_count": null,
   "metadata": {},
   "outputs": [],
   "source": [
    "from parlai.scripts.train_model import TrainModel\n",
    "TrainModel.main(\n",
    "    # we MUST provide a filename\n",
    "    model_file='from_scratch_model/model',\n",
    "    # train on empathetic dialogues\n",
    "    task='empathetic_dialogues',\n",
    "    # limit training time to 2 minutes, and a batchsize of 16\n",
    "    max_train_time=2 * 60,\n",
    "    batchsize=16,\n",
    "    \n",
    "    # we specify the model type as seq2seq\n",
    "    model='seq2seq',\n",
    "    # some hyperparamter choices. We'll use attention. We could use pretrained\n",
    "    # embeddings too, with embedding_type='fasttext', but they take a long\n",
    "    # time to download.\n",
    "    attention='dot',\n",
    "    # tie the word embeddings of the encoder/decoder/softmax.\n",
    "    lookuptable='all',\n",
    "    # truncate text and labels at 64 tokens, for memory and time savings\n",
    "    truncate=64,\n",
    ")"
   ]
  },
  {
   "cell_type": "code",
   "execution_count": null,
   "metadata": {},
   "outputs": [],
   "source": []
  }
 ]
}